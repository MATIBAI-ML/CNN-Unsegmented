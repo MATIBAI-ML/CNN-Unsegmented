{
 "cells": [
  {
   "cell_type": "code",
   "execution_count": 1,
   "metadata": {},
   "outputs": [],
   "source": [
    "# Libs\n",
    "import os\n",
    "import sys"
   ]
  },
  {
   "cell_type": "code",
   "execution_count": 2,
   "metadata": {},
   "outputs": [
    {
     "name": "stderr",
     "output_type": "stream",
     "text": [
      "/Users/tyronemariano/Library/Python/3.9/lib/python/site-packages/urllib3/__init__.py:35: NotOpenSSLWarning: urllib3 v2 only supports OpenSSL 1.1.1+, currently the 'ssl' module is compiled with 'LibreSSL 2.8.3'. See: https://github.com/urllib3/urllib3/issues/3020\n",
      "  warnings.warn(\n"
     ]
    },
    {
     "name": "stdout",
     "output_type": "stream",
     "text": [
      "WARNING:tensorflow:From /Users/tyronemariano/Library/Python/3.9/lib/python/site-packages/tensorflow/python/compat/v2_compat.py:98: disable_resource_variables (from tensorflow.python.ops.resource_variables_toggle) is deprecated and will be removed in a future version.\n",
      "Instructions for updating:\n",
      "non-resource variables are not supported in the long term\n"
     ]
    }
   ],
   "source": [
    "# Own modules\n",
    "import preprocess\n",
    "import prepare_input\n",
    "import train_variants\n",
    "import progress"
   ]
  },
  {
   "cell_type": "code",
   "execution_count": 3,
   "metadata": {},
   "outputs": [],
   "source": [
    "# Constants\n",
    "SIZE = 512"
   ]
  },
  {
   "cell_type": "code",
   "execution_count": 4,
   "metadata": {},
   "outputs": [],
   "source": [
    "# Helper functions\n",
    "def relPath(dir):\n",
    "    \"Returns path of directory relative to the executable\"\n",
    "    return os.path.join(os.getcwd(), dir)"
   ]
  },
  {
   "cell_type": "code",
   "execution_count": 5,
   "metadata": {},
   "outputs": [
    {
     "name": "stdout",
     "output_type": "stream",
     "text": [
      "Preprocessing...\n"
     ]
    }
   ],
   "source": [
    "# Crop and resize images\n",
    "# This expects the images to be saved in the data folder\n",
    "# Extract 1/4 more for cropping augmentation\n",
    "print('Preprocessing...')\n",
    "preprocess.preprocess(relPath('data'), relPath('preprocessed'), size=int(SIZE*1.1))"
   ]
  },
  {
   "cell_type": "code",
   "execution_count": 6,
   "metadata": {},
   "outputs": [
    {
     "name": "stdout",
     "output_type": "stream",
     "text": [
      "Preparing input...\n",
      "Input was already prepared\n"
     ]
    }
   ],
   "source": [
    "# Prepare input: convert to float with unit variance and zero mean,\n",
    "# extract labels and save everything as a big numpy array to be used for training\n",
    "print('Preparing input...')\n",
    "prepare_input.prepare(relPath('preprocessed'), relPath('input'))\n"
   ]
  },
  {
   "cell_type": "code",
   "execution_count": 7,
   "metadata": {},
   "outputs": [
    {
     "name": "stdout",
     "output_type": "stream",
     "text": [
      "Use `python3 -m tensorboard.main --logdir=./logs/` to visualize accuracy and AUC graphs in real time\n"
     ]
    }
   ],
   "source": [
    "# print command to start tensorboard\n",
    "progress.start_tensorboard()"
   ]
  },
  {
   "cell_type": "code",
   "execution_count": 8,
   "metadata": {},
   "outputs": [],
   "source": [
    "import tensorflow.compat.v1 as tf\n",
    "import keras"
   ]
  },
  {
   "cell_type": "code",
   "execution_count": null,
   "metadata": {},
   "outputs": [
    {
     "ename": "",
     "evalue": "",
     "output_type": "error",
     "traceback": [
      "\u001b[1;31mThe Kernel crashed while executing code in the current cell or a previous cell. \n",
      "\u001b[1;31mPlease review the code in the cell(s) to identify a possible cause of the failure. \n",
      "\u001b[1;31mClick <a href='https://aka.ms/vscodeJupyterKernelCrash'>here</a> for more info. \n",
      "\u001b[1;31mView Jupyter <a href='command:jupyter.viewOutput'>log</a> for further details."
     ]
    }
   ],
   "source": [
    "output = tf.keras.layers.Conv2D(\n",
    "            filters=32,\n",
    "            kernel_size=3,\n",
    "            strides=1,\n",
    "            padding='same',\n",
    "            kernel_initializer=tf.keras.initializers.he_normal(),\n",
    "        )"
   ]
  },
  {
   "cell_type": "code",
   "execution_count": null,
   "metadata": {},
   "outputs": [
    {
     "name": "stdout",
     "output_type": "stream",
     "text": [
      "Training...\n",
      "\n",
      "WARNING:tensorflow:From /Users/tyronemariano/Desktop/tbcnn-master/train_loop.py:62: shuffle_and_repeat (from tensorflow.python.data.experimental.ops.shuffle_ops) is deprecated and will be removed in a future version.\n",
      "Instructions for updating:\n",
      "Use `tf.data.Dataset.shuffle(buffer_size, seed)` followed by `tf.data.Dataset.repeat(count)`. Static tf.data optimizations will take care of using the fused implementation.\n",
      "WARNING:tensorflow:From /Users/tyronemariano/Library/Python/3.9/lib/python/site-packages/tensorflow/python/autograph/impl/api.py:460: py_func (from tensorflow.python.ops.script_ops) is deprecated and will be removed in a future version.\n",
      "Instructions for updating:\n",
      "tf.py_func is deprecated in TF V2. Instead, there are two\n",
      "    options available in V2.\n",
      "    - tf.py_function takes a python function which manipulates tf eager\n",
      "    tensors instead of numpy arrays. It's easy to convert a tf eager tensor to\n",
      "    an ndarray (just call tensor.numpy()) but having access to eager tensors\n",
      "    means `tf.py_function`s can use accelerators such as GPUs as well as\n",
      "    being differentiable using a gradient tape.\n",
      "    - tf.numpy_function maintains the semantics of the deprecated tf.py_func\n",
      "    (it is not differentiable, and manipulates numpy arrays). It drops the\n",
      "    stateful argument making all functions stateful.\n",
      "    \n",
      "WARNING:tensorflow:From /Users/tyronemariano/Desktop/tbcnn-master/train_loop.py:68: DatasetV1.make_one_shot_iterator (from tensorflow.python.data.ops.dataset_ops) is deprecated and will be removed in a future version.\n",
      "Instructions for updating:\n",
      "This is a deprecated API that should only be used in TF 1 graph mode and legacy TF 2 graph mode available through `tf.compat.v1`. In all other situations -- namely, eager mode and inside `tf.function` -- you can consume dataset elements using `for elem in dataset: ...` or by explicitly creating iterator via `iterator = iter(dataset)` and fetching its elements via `values = next(iterator)`. Furthermore, this API is not available in TF 2. During the transition from TF 1 to TF 2 you can use `tf.compat.v1.data.make_one_shot_iterator(dataset)` to create a TF 1 graph mode style iterator for a dataset created through TF 2 APIs. Note that this should be a transient state of your code base as there are in general no guarantees about the interoperability of TF 1 and TF 2 code.\n",
      "WARNING:tensorflow:From /Users/tyronemariano/Desktop/tbcnn-master/net.py:99: auc (from tensorflow.python.ops.metrics_impl) is deprecated and will be removed in a future version.\n",
      "Instructions for updating:\n",
      "The value of AUC returned by this may race with the update so this is deprecated. Please use tf.keras.metrics.AUC instead.\n",
      "Parameter number: 231602\n",
      "INFO:tensorflow:Summary name training accuracy is illegal; using training_accuracy instead.\n",
      "INFO:tensorflow:Summary name training AUC is illegal; using training_AUC instead.\n",
      "INFO:tensorflow:Summary name test accuracy is illegal; using test_accuracy instead.\n",
      "INFO:tensorflow:Summary name test AUC is illegal; using test_AUC instead.\n"
     ]
    },
    {
     "name": "stderr",
     "output_type": "stream",
     "text": [
      "WARNING: All log messages before absl::InitializeLog() is called are written to STDERR\n",
      "I0000 00:00:1743645022.362152 2083800 mlir_graph_optimization_pass.cc:401] MLIR V1 optimization pass is not enabled\n"
     ]
    },
    {
     "name": "stdout",
     "output_type": "stream",
     "text": [
      "Epoch   0 | Time:  11 s | Acc: 0.556 (Test: 0.556) | AUC: 0.377 (Test: 0.230)\n",
      "Epoch   1 | Time:   5 s | Acc: 0.426 (Test: 0.593) | AUC: 0.389 (Test: 0.500)\n",
      "Epoch   2 | Time:   5 s | Acc: 0.574 (Test: 0.593) | AUC: 0.493 (Test: 0.491)\n",
      "Epoch   3 | Time:   6 s | Acc: 0.537 (Test: 0.593) | AUC: 0.518 (Test: 0.634)\n",
      "Epoch   4 | Time:   6 s | Acc: 0.648 (Test: 0.593) | AUC: 0.592 (Test: 0.673)\n",
      "Epoch   5 | Time:   6 s | Acc: 0.565 (Test: 0.593) | AUC: 0.494 (Test: 0.651)\n",
      "Epoch   6 | Time:   6 s | Acc: 0.546 (Test: 0.593) | AUC: 0.542 (Test: 0.710)\n",
      "Epoch   7 | Time:   6 s | Acc: 0.546 (Test: 0.593) | AUC: 0.534 (Test: 0.713)\n",
      "Epoch   8 | Time:   6 s | Acc: 0.574 (Test: 0.593) | AUC: 0.633 (Test: 0.702)\n",
      "Epoch   9 | Time:   5 s | Acc: 0.574 (Test: 0.593) | AUC: 0.637 (Test: 0.741)\n",
      "Epoch  10 | Time:   6 s | Acc: 0.519 (Test: 0.593) | AUC: 0.694 (Test: 0.756)\n",
      "Epoch  11 | Time:   6 s | Acc: 0.509 (Test: 0.593) | AUC: 0.536 (Test: 0.727)\n",
      "Epoch  12 | Time:   6 s | Acc: 0.565 (Test: 0.593) | AUC: 0.608 (Test: 0.750)\n",
      "Epoch  13 | Time:   5 s | Acc: 0.556 (Test: 0.593) | AUC: 0.734 (Test: 0.761)\n",
      "Epoch  14 | Time:   5 s | Acc: 0.583 (Test: 0.593) | AUC: 0.696 (Test: 0.753)\n",
      "Epoch  15 | Time:   6 s | Acc: 0.546 (Test: 0.556) | AUC: 0.728 (Test: 0.733)\n",
      "Epoch  16 | Time:   6 s | Acc: 0.593 (Test: 0.593) | AUC: 0.647 (Test: 0.750)\n",
      "Epoch  17 | Time:   6 s | Acc: 0.602 (Test: 0.593) | AUC: 0.632 (Test: 0.727)\n",
      "Epoch  18 | Time:   5 s | Acc: 0.611 (Test: 0.593) | AUC: 0.638 (Test: 0.741)\n",
      "Epoch  19 | Time:   6 s | Acc: 0.639 (Test: 0.593) | AUC: 0.695 (Test: 0.764)\n",
      "Epoch  20 | Time:   6 s | Acc: 0.556 (Test: 0.593) | AUC: 0.619 (Test: 0.773)\n",
      "Epoch  21 | Time:   6 s | Acc: 0.630 (Test: 0.667) | AUC: 0.621 (Test: 0.747)\n",
      "Epoch  22 | Time:   6 s | Acc: 0.639 (Test: 0.667) | AUC: 0.667 (Test: 0.759)\n",
      "Epoch  23 | Time:   6 s | Acc: 0.593 (Test: 0.704) | AUC: 0.643 (Test: 0.761)\n",
      "Epoch  24 | Time:   6 s | Acc: 0.602 (Test: 0.593) | AUC: 0.621 (Test: 0.784)\n",
      "Epoch  25 | Time:   6 s | Acc: 0.676 (Test: 0.630) | AUC: 0.742 (Test: 0.778)\n",
      "Epoch  26 | Time:   6 s | Acc: 0.630 (Test: 0.593) | AUC: 0.660 (Test: 0.804)\n",
      "Epoch  27 | Time:   6 s | Acc: 0.639 (Test: 0.741) | AUC: 0.662 (Test: 0.790)\n",
      "Epoch  28 | Time:   5 s | Acc: 0.602 (Test: 0.704) | AUC: 0.716 (Test: 0.790)\n",
      "Epoch  29 | Time:   6 s | Acc: 0.565 (Test: 0.741) | AUC: 0.593 (Test: 0.781)\n",
      "Epoch  30 | Time:   6 s | Acc: 0.667 (Test: 0.593) | AUC: 0.768 (Test: 0.801)\n",
      "Epoch  31 | Time:   6 s | Acc: 0.657 (Test: 0.630) | AUC: 0.674 (Test: 0.787)\n",
      "Epoch  32 | Time:   5 s | Acc: 0.611 (Test: 0.593) | AUC: 0.639 (Test: 0.795)\n",
      "Epoch  33 | Time:   6 s | Acc: 0.676 (Test: 0.667) | AUC: 0.746 (Test: 0.784)\n",
      "Epoch  34 | Time:   6 s | Acc: 0.704 (Test: 0.704) | AUC: 0.727 (Test: 0.787)\n",
      "Epoch  35 | Time:   6 s | Acc: 0.630 (Test: 0.667) | AUC: 0.696 (Test: 0.776)\n",
      "Epoch  36 | Time:   6 s | Acc: 0.648 (Test: 0.667) | AUC: 0.681 (Test: 0.773)\n",
      "Epoch  37 | Time:   6 s | Acc: 0.648 (Test: 0.741) | AUC: 0.733 (Test: 0.793)\n",
      "Epoch  38 | Time:   6 s | Acc: 0.694 (Test: 0.630) | AUC: 0.711 (Test: 0.793)\n",
      "Epoch  39 | Time:   6 s | Acc: 0.731 (Test: 0.741) | AUC: 0.761 (Test: 0.801)\n",
      "Epoch  40 | Time:   6 s | Acc: 0.667 (Test: 0.667) | AUC: 0.747 (Test: 0.787)\n",
      "Epoch  41 | Time:   6 s | Acc: 0.676 (Test: 0.778) | AUC: 0.743 (Test: 0.807)\n",
      "Epoch  42 | Time:   6 s | Acc: 0.685 (Test: 0.630) | AUC: 0.757 (Test: 0.810)\n",
      "Epoch  43 | Time:   6 s | Acc: 0.694 (Test: 0.667) | AUC: 0.753 (Test: 0.807)\n",
      "Epoch  44 | Time:   6 s | Acc: 0.731 (Test: 0.704) | AUC: 0.715 (Test: 0.810)\n",
      "Epoch  45 | Time:   5 s | Acc: 0.694 (Test: 0.630) | AUC: 0.779 (Test: 0.810)\n",
      "Epoch  46 | Time:   6 s | Acc: 0.759 (Test: 0.704) | AUC: 0.798 (Test: 0.804)\n",
      "Epoch  47 | Time:   6 s | Acc: 0.667 (Test: 0.704) | AUC: 0.746 (Test: 0.818)\n",
      "Epoch  48 | Time:   6 s | Acc: 0.731 (Test: 0.667) | AUC: 0.832 (Test: 0.798)\n",
      "Epoch  49 | Time:   6 s | Acc: 0.685 (Test: 0.704) | AUC: 0.773 (Test: 0.807)\n",
      "Epoch  50 | Time:   6 s | Acc: 0.657 (Test: 0.741) | AUC: 0.706 (Test: 0.801)\n",
      "Epoch  51 | Time:   6 s | Acc: 0.611 (Test: 0.630) | AUC: 0.667 (Test: 0.810)\n",
      "Epoch  52 | Time:   6 s | Acc: 0.657 (Test: 0.704) | AUC: 0.765 (Test: 0.827)\n",
      "Epoch  53 | Time:   6 s | Acc: 0.759 (Test: 0.704) | AUC: 0.834 (Test: 0.812)\n",
      "Epoch  54 | Time:   6 s | Acc: 0.667 (Test: 0.704) | AUC: 0.741 (Test: 0.824)\n",
      "Epoch  55 | Time:   6 s | Acc: 0.685 (Test: 0.444) | AUC: 0.741 (Test: 0.798)\n",
      "Epoch  56 | Time:   6 s | Acc: 0.574 (Test: 0.667) | AUC: 0.622 (Test: 0.812)\n",
      "Epoch  57 | Time:   6 s | Acc: 0.741 (Test: 0.630) | AUC: 0.800 (Test: 0.841)\n",
      "Epoch  58 | Time:   6 s | Acc: 0.694 (Test: 0.741) | AUC: 0.753 (Test: 0.815)\n",
      "Epoch  59 | Time:   6 s | Acc: 0.750 (Test: 0.778) | AUC: 0.835 (Test: 0.821)\n",
      "Epoch  60 | Time:   6 s | Acc: 0.685 (Test: 0.704) | AUC: 0.750 (Test: 0.844)\n",
      "Epoch  61 | Time:   6 s | Acc: 0.713 (Test: 0.741) | AUC: 0.735 (Test: 0.838)\n",
      "Epoch  62 | Time:   6 s | Acc: 0.759 (Test: 0.704) | AUC: 0.849 (Test: 0.844)\n",
      "Epoch  63 | Time:   6 s | Acc: 0.731 (Test: 0.815) | AUC: 0.797 (Test: 0.849)\n",
      "Epoch  64 | Time:   6 s | Acc: 0.759 (Test: 0.815) | AUC: 0.823 (Test: 0.849)\n",
      "Epoch  65 | Time:   6 s | Acc: 0.731 (Test: 0.741) | AUC: 0.801 (Test: 0.861)\n",
      "Epoch  66 | Time:   6 s | Acc: 0.685 (Test: 0.704) | AUC: 0.745 (Test: 0.838)\n",
      "Epoch  67 | Time:   7 s | Acc: 0.722 (Test: 0.704) | AUC: 0.796 (Test: 0.858)\n",
      "Epoch  68 | Time:   6 s | Acc: 0.796 (Test: 0.704) | AUC: 0.819 (Test: 0.838)\n",
      "Epoch  69 | Time:   7 s | Acc: 0.750 (Test: 0.741) | AUC: 0.823 (Test: 0.855)\n",
      "Epoch  70 | Time:   6 s | Acc: 0.769 (Test: 0.704) | AUC: 0.831 (Test: 0.847)\n",
      "Epoch  71 | Time:   5 s | Acc: 0.759 (Test: 0.667) | AUC: 0.837 (Test: 0.849)\n",
      "Epoch  72 | Time:   6 s | Acc: 0.685 (Test: 0.704) | AUC: 0.775 (Test: 0.875)\n",
      "Epoch  73 | Time:   5 s | Acc: 0.806 (Test: 0.815) | AUC: 0.881 (Test: 0.858)\n",
      "Epoch  74 | Time:   5 s | Acc: 0.731 (Test: 0.704) | AUC: 0.837 (Test: 0.824)\n",
      "Epoch  75 | Time:   5 s | Acc: 0.750 (Test: 0.704) | AUC: 0.801 (Test: 0.844)\n",
      "Epoch  76 | Time:   6 s | Acc: 0.778 (Test: 0.778) | AUC: 0.867 (Test: 0.852)\n",
      "Epoch  77 | Time:   6 s | Acc: 0.778 (Test: 0.778) | AUC: 0.844 (Test: 0.849)\n",
      "Epoch  78 | Time:   6 s | Acc: 0.815 (Test: 0.815) | AUC: 0.883 (Test: 0.844)\n",
      "Epoch  79 | Time:   6 s | Acc: 0.815 (Test: 0.815) | AUC: 0.883 (Test: 0.869)\n",
      "Epoch  80 | Time:   6 s | Acc: 0.759 (Test: 0.815) | AUC: 0.844 (Test: 0.858)\n",
      "Epoch  81 | Time:   5 s | Acc: 0.852 (Test: 0.667) | AUC: 0.901 (Test: 0.861)\n",
      "Epoch  82 | Time:   6 s | Acc: 0.787 (Test: 0.704) | AUC: 0.877 (Test: 0.824)\n",
      "Epoch  83 | Time:   6 s | Acc: 0.759 (Test: 0.741) | AUC: 0.863 (Test: 0.801)\n",
      "Epoch  84 | Time:   6 s | Acc: 0.852 (Test: 0.704) | AUC: 0.910 (Test: 0.866)\n",
      "Epoch  85 | Time:   6 s | Acc: 0.769 (Test: 0.741) | AUC: 0.862 (Test: 0.852)\n",
      "Epoch  86 | Time:   6 s | Acc: 0.778 (Test: 0.704) | AUC: 0.879 (Test: 0.841)\n",
      "Epoch  87 | Time:   6 s | Acc: 0.861 (Test: 0.741) | AUC: 0.918 (Test: 0.861)\n",
      "Epoch  88 | Time:   6 s | Acc: 0.778 (Test: 0.741) | AUC: 0.875 (Test: 0.832)\n",
      "Epoch  89 | Time:   6 s | Acc: 0.787 (Test: 0.778) | AUC: 0.882 (Test: 0.824)\n",
      "Epoch  90 | Time:   6 s | Acc: 0.796 (Test: 0.556) | AUC: 0.889 (Test: 0.861)\n",
      "Epoch  91 | Time:   6 s | Acc: 0.787 (Test: 0.630) | AUC: 0.877 (Test: 0.821)\n",
      "Epoch  92 | Time:   6 s | Acc: 0.824 (Test: 0.778) | AUC: 0.908 (Test: 0.869)\n",
      "Epoch  93 | Time:   6 s | Acc: 0.815 (Test: 0.778) | AUC: 0.923 (Test: 0.864)\n",
      "Epoch  94 | Time:   6 s | Acc: 0.833 (Test: 0.704) | AUC: 0.928 (Test: 0.869)\n",
      "Epoch  95 | Time:   6 s | Acc: 0.824 (Test: 0.741) | AUC: 0.921 (Test: 0.847)\n",
      "Epoch  96 | Time:   6 s | Acc: 0.852 (Test: 0.778) | AUC: 0.909 (Test: 0.869)\n",
      "Epoch  97 | Time:   6 s | Acc: 0.880 (Test: 0.815) | AUC: 0.937 (Test: 0.832)\n",
      "Epoch  98 | Time:   6 s | Acc: 0.806 (Test: 0.815) | AUC: 0.907 (Test: 0.872)\n",
      "Epoch  99 | Time:   6 s | Acc: 0.778 (Test: 0.704) | AUC: 0.887 (Test: 0.866)\n",
      "Epoch 100 | Time:   6 s | Acc: 0.741 (Test: 0.704) | AUC: 0.816 (Test: 0.881)\n",
      "Epoch 101 | Time:   6 s | Acc: 0.852 (Test: 0.704) | AUC: 0.914 (Test: 0.869)\n",
      "Epoch 102 | Time:   6 s | Acc: 0.815 (Test: 0.741) | AUC: 0.896 (Test: 0.869)\n",
      "Epoch 103 | Time:   6 s | Acc: 0.815 (Test: 0.852) | AUC: 0.901 (Test: 0.875)\n",
      "Epoch 104 | Time:   6 s | Acc: 0.833 (Test: 0.704) | AUC: 0.903 (Test: 0.881)\n",
      "Epoch 105 | Time:   6 s | Acc: 0.880 (Test: 0.889) | AUC: 0.950 (Test: 0.878)\n",
      "Epoch 106 | Time:   6 s | Acc: 0.787 (Test: 0.667) | AUC: 0.892 (Test: 0.872)\n",
      "Epoch 107 | Time:   6 s | Acc: 0.806 (Test: 0.852) | AUC: 0.912 (Test: 0.886)\n",
      "Epoch 108 | Time:   6 s | Acc: 0.898 (Test: 0.741) | AUC: 0.947 (Test: 0.881)\n",
      "Epoch 109 | Time:   6 s | Acc: 0.806 (Test: 0.704) | AUC: 0.862 (Test: 0.886)\n",
      "Epoch 110 | Time:   6 s | Acc: 0.861 (Test: 0.815) | AUC: 0.923 (Test: 0.875)\n",
      "Epoch 111 | Time:   6 s | Acc: 0.806 (Test: 0.704) | AUC: 0.921 (Test: 0.886)\n",
      "Epoch 112 | Time:   6 s | Acc: 0.843 (Test: 0.741) | AUC: 0.929 (Test: 0.886)\n",
      "Epoch 113 | Time:   6 s | Acc: 0.843 (Test: 0.741) | AUC: 0.929 (Test: 0.881)\n",
      "Epoch 114 | Time:   6 s | Acc: 0.870 (Test: 0.815) | AUC: 0.954 (Test: 0.886)\n",
      "Epoch 115 | Time:   6 s | Acc: 0.815 (Test: 0.778) | AUC: 0.899 (Test: 0.881)\n",
      "Epoch 116 | Time:   6 s | Acc: 0.852 (Test: 0.852) | AUC: 0.925 (Test: 0.909)\n",
      "Epoch 117 | Time:   6 s | Acc: 0.852 (Test: 0.852) | AUC: 0.924 (Test: 0.892)\n",
      "Epoch 118 | Time:   6 s | Acc: 0.880 (Test: 0.815) | AUC: 0.941 (Test: 0.886)\n",
      "Epoch 119 | Time:   6 s | Acc: 0.907 (Test: 0.741) | AUC: 0.951 (Test: 0.886)\n",
      "Epoch 120 | Time:   6 s | Acc: 0.889 (Test: 0.815) | AUC: 0.954 (Test: 0.898)\n",
      "Epoch 121 | Time:   6 s | Acc: 0.889 (Test: 0.741) | AUC: 0.934 (Test: 0.889)\n",
      "Epoch 122 | Time:   6 s | Acc: 0.917 (Test: 0.815) | AUC: 0.962 (Test: 0.872)\n",
      "Epoch 123 | Time:   6 s | Acc: 0.935 (Test: 0.815) | AUC: 0.971 (Test: 0.875)\n",
      "Epoch 124 | Time:   6 s | Acc: 0.852 (Test: 0.667) | AUC: 0.945 (Test: 0.866)\n",
      "Epoch 125 | Time:   6 s | Acc: 0.889 (Test: 0.778) | AUC: 0.967 (Test: 0.878)\n",
      "Epoch 126 | Time:   6 s | Acc: 0.852 (Test: 0.704) | AUC: 0.936 (Test: 0.886)\n",
      "Epoch 127 | Time:   6 s | Acc: 0.861 (Test: 0.815) | AUC: 0.934 (Test: 0.889)\n",
      "Epoch 128 | Time:   6 s | Acc: 0.889 (Test: 0.741) | AUC: 0.966 (Test: 0.886)\n",
      "Epoch 129 | Time:   6 s | Acc: 0.861 (Test: 0.852) | AUC: 0.951 (Test: 0.892)\n",
      "Batch 27 / 27\r"
     ]
    }
   ],
   "source": [
    "# Train network\n",
    "if '--cross-validation' in sys.argv:\n",
    "    train_variants.train_cross_validation(relPath('input'), sets=3, size=SIZE)\n",
    "else:\n",
    "    train_variants.train_single(relPath('input'), size=SIZE)"
   ]
  }
 ],
 "metadata": {
  "kernelspec": {
   "display_name": "Python 3",
   "language": "python",
   "name": "python3"
  },
  "language_info": {
   "codemirror_mode": {
    "name": "ipython",
    "version": 3
   },
   "file_extension": ".py",
   "mimetype": "text/x-python",
   "name": "python",
   "nbconvert_exporter": "python",
   "pygments_lexer": "ipython3",
   "version": "3.9.6"
  }
 },
 "nbformat": 4,
 "nbformat_minor": 2
}
